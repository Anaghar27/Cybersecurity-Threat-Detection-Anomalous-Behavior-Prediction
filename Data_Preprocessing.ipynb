{
 "cells": [
  {
   "cell_type": "code",
   "execution_count": 1,
   "id": "123edeb3-fba3-4881-bf0b-d368917e625e",
   "metadata": {},
   "outputs": [
    {
     "name": "stdout",
     "output_type": "stream",
     "text": [
      "     Robot Gesture ID Gesture Type Gesture Coordinates (x, y, z)  \\\n",
      "0                  10     Incision             (1.48, 1.4, 0.02)   \n",
      "1                   8    Diagnosis            (1.62, 1.81, 0.68)   \n",
      "2                   9     Incision            (0.67, 1.53, 0.06)   \n",
      "3                   1     Incision            (1.63, 1.74, 1.92)   \n",
      "4                   4     Suturing            (0.53, 0.87, 1.17)   \n",
      "..                ...          ...                           ...   \n",
      "995                 1    Diagnosis             (0.48, 1.06, 0.4)   \n",
      "996                 9   Navigation             (1.81, 0.37, 0.3)   \n",
      "997                 9   Navigation            (1.05, 1.83, 0.49)   \n",
      "998                 1   Navigation            (1.56, 0.67, 1.91)   \n",
      "999                 3    Diagnosis            (0.17, 0.95, 1.23)   \n",
      "\n",
      "               Timestamp  Gesture Duration (sec) Robot Status  Message ID  \\\n",
      "0    2025-02-14 16:32:27                5.999538         Idle       22614   \n",
      "1    2025-02-14 16:32:27                2.233173         Idle       61556   \n",
      "2    2025-02-14 16:32:27                3.016105       Active       27848   \n",
      "3    2025-02-14 16:32:27                0.826854         Idle       60592   \n",
      "4    2025-02-14 16:32:27                2.355016         Idle       46712   \n",
      "..                   ...                     ...          ...         ...   \n",
      "995  2025-02-14 16:32:27                2.908674         Idle       10047   \n",
      "996  2025-02-14 16:32:27                0.613279         Idle       66498   \n",
      "997  2025-02-14 16:32:27                3.547558         Idle       69106   \n",
      "998  2025-02-14 16:32:27                3.061551         Idle       94269   \n",
      "999  2025-02-14 16:32:27                0.768948         Idle       11134   \n",
      "\n",
      "       Sender  Receiver Encryption Algorithm Used Encryption Status  \\\n",
      "0    Operator     Robot                  Two Fish         Encrypted   \n",
      "1    Operator     Robot                  Two Fish         Encrypted   \n",
      "2    Operator     Robot                  Two Fish         Encrypted   \n",
      "3    Operator     Robot                  Two Fish         Encrypted   \n",
      "4       Robot  Operator                  Two Fish            Failed   \n",
      "..        ...       ...                       ...               ...   \n",
      "995  Operator     Robot                  Two Fish         Encrypted   \n",
      "996  Operator     Robot                  Two Fish            Failed   \n",
      "997  Operator     Robot                  Two Fish            Failed   \n",
      "998     Robot  Operator                  Two Fish         Encrypted   \n",
      "999  Operator     Robot                  Two Fish         Encrypted   \n",
      "\n",
      "     Network Latency (ms)  Data Transfer Rate (Mbps)  \\\n",
      "0               14.248357                  81.723471   \n",
      "1                7.761515                  97.531693   \n",
      "2               12.473764                   5.000000   \n",
      "3                8.271280                  80.073165   \n",
      "4                8.120981                  22.173440   \n",
      "..                    ...                        ...   \n",
      "995              9.519977                  25.754582   \n",
      "996              8.434898                  55.823353   \n",
      "997             11.301059                   5.144074   \n",
      "998             12.714424                   5.000000   \n",
      "999             14.379120                  49.668353   \n",
      "\n",
      "                  Threat Type Threat Severity  Response Time (sec)  \\\n",
      "0    Man-in-the-Middle Attack             Low                 4.63   \n",
      "1                  DoS Attack             Low                 3.94   \n",
      "2                   No Threat             Low                 0.00   \n",
      "3                 Data Breach            High                 4.58   \n",
      "4    Man-in-the-Middle Attack             Low                 2.46   \n",
      "..                        ...             ...                  ...   \n",
      "995  Man-in-the-Middle Attack            High                 3.47   \n",
      "996               Data Breach          Medium                 3.89   \n",
      "997  Man-in-the-Middle Attack            High                 1.83   \n",
      "998                 No Threat          Medium                 0.00   \n",
      "999                DoS Attack             Low                 2.36   \n",
      "\n",
      "    Response Action Taken  Threat Detected  \n",
      "0        Reset Encryption                1  \n",
      "1        Reset Encryption                1  \n",
      "2                     NaN                0  \n",
      "3    Reconnect Connection                1  \n",
      "4            Isolate Data                1  \n",
      "..                    ...              ...  \n",
      "995  Reconnect Connection                1  \n",
      "996          Isolate Data                1  \n",
      "997  Reconnect Connection                0  \n",
      "998                   NaN                0  \n",
      "999  Reconnect Connection                1  \n",
      "\n",
      "[1000 rows x 18 columns]\n"
     ]
    }
   ],
   "source": [
    "import pandas as pd\n",
    "df = pd.read_csv(\"telesurgery_final_modified_dataset.csv\")\n",
    "print(df)"
   ]
  },
  {
   "cell_type": "code",
   "execution_count": 2,
   "id": "e63e895c-aaa6-4a99-9f84-b6c7b55ad96a",
   "metadata": {},
   "outputs": [],
   "source": [
    "df.drop_duplicates(inplace=True)\n"
   ]
  },
  {
   "cell_type": "code",
   "execution_count": 3,
   "id": "0f5212c0-f79a-4029-9de5-6f834de68406",
   "metadata": {},
   "outputs": [
    {
     "data": {
      "text/plain": [
       "Robot Gesture ID                   0\n",
       "Gesture Type                       0\n",
       "Gesture Coordinates (x, y, z)      0\n",
       "Timestamp                          0\n",
       "Gesture Duration (sec)             0\n",
       "Robot Status                       0\n",
       "Message ID                         0\n",
       "Sender                             0\n",
       "Receiver                           0\n",
       "Encryption Algorithm Used          0\n",
       "Encryption Status                  0\n",
       "Network Latency (ms)               0\n",
       "Data Transfer Rate (Mbps)          0\n",
       "Threat Type                        0\n",
       "Threat Severity                    0\n",
       "Response Time (sec)                0\n",
       "Response Action Taken            283\n",
       "Threat Detected                    0\n",
       "dtype: int64"
      ]
     },
     "execution_count": 3,
     "metadata": {},
     "output_type": "execute_result"
    }
   ],
   "source": [
    "df.isnull().sum()\n"
   ]
  },
  {
   "cell_type": "code",
   "execution_count": 4,
   "id": "c8c358f9-f50e-4404-8b84-d25b005476ea",
   "metadata": {},
   "outputs": [],
   "source": [
    "df['Response Action Taken'].fillna(df['Response Action Taken'].mode()[0], inplace=True)\n"
   ]
  },
  {
   "cell_type": "markdown",
   "id": "fc893043-d40b-4973-a4d0-e79ee8909708",
   "metadata": {},
   "source": [
    "### if missing values- should drop or impute depending on the dataset- to be dealt with later"
   ]
  },
  {
   "cell_type": "markdown",
   "id": "a9432589-3b5a-4b01-b1a3-dd8542a0843e",
   "metadata": {},
   "source": [
    "##### Options:\n",
    "\n",
    "Drop rows with missing target columns (Threat Detected)\n",
    "\n",
    "Impute missing numerical values with mean/median\n",
    "\n",
    "Impute categorical values with mode\n",
    "\n",
    "\n",
    "df['Network Latency (ms)'].fillna(df['Network Latency (ms)'].median(), inplace=True)\n",
    "df['Gesture Type'].fillna(df['Gesture Type'].mode()[0], inplace=True)"
   ]
  },
  {
   "cell_type": "code",
   "execution_count": 5,
   "id": "5da3bf20-a185-400c-b57a-0389097ab9bb",
   "metadata": {},
   "outputs": [
    {
     "name": "stdout",
     "output_type": "stream",
     "text": [
      "     Robot Gesture ID Gesture Type            Timestamp  \\\n",
      "0                  10     Incision  2025-02-14 16:32:27   \n",
      "1                   8    Diagnosis  2025-02-14 16:32:27   \n",
      "2                   9     Incision  2025-02-14 16:32:27   \n",
      "3                   1     Incision  2025-02-14 16:32:27   \n",
      "4                   4     Suturing  2025-02-14 16:32:27   \n",
      "..                ...          ...                  ...   \n",
      "995                 1    Diagnosis  2025-02-14 16:32:27   \n",
      "996                 9   Navigation  2025-02-14 16:32:27   \n",
      "997                 9   Navigation  2025-02-14 16:32:27   \n",
      "998                 1   Navigation  2025-02-14 16:32:27   \n",
      "999                 3    Diagnosis  2025-02-14 16:32:27   \n",
      "\n",
      "     Gesture Duration (sec) Robot Status  Message ID    Sender  Receiver  \\\n",
      "0                  5.999538         Idle       22614  Operator     Robot   \n",
      "1                  2.233173         Idle       61556  Operator     Robot   \n",
      "2                  3.016105       Active       27848  Operator     Robot   \n",
      "3                  0.826854         Idle       60592  Operator     Robot   \n",
      "4                  2.355016         Idle       46712     Robot  Operator   \n",
      "..                      ...          ...         ...       ...       ...   \n",
      "995                2.908674         Idle       10047  Operator     Robot   \n",
      "996                0.613279         Idle       66498  Operator     Robot   \n",
      "997                3.547558         Idle       69106  Operator     Robot   \n",
      "998                3.061551         Idle       94269     Robot  Operator   \n",
      "999                0.768948         Idle       11134  Operator     Robot   \n",
      "\n",
      "    Encryption Algorithm Used Encryption Status  Network Latency (ms)  \\\n",
      "0                    Two Fish         Encrypted             14.248357   \n",
      "1                    Two Fish         Encrypted              7.761515   \n",
      "2                    Two Fish         Encrypted             12.473764   \n",
      "3                    Two Fish         Encrypted              8.271280   \n",
      "4                    Two Fish            Failed              8.120981   \n",
      "..                        ...               ...                   ...   \n",
      "995                  Two Fish         Encrypted              9.519977   \n",
      "996                  Two Fish            Failed              8.434898   \n",
      "997                  Two Fish            Failed             11.301059   \n",
      "998                  Two Fish         Encrypted             12.714424   \n",
      "999                  Two Fish         Encrypted             14.379120   \n",
      "\n",
      "     Data Transfer Rate (Mbps)               Threat Type Threat Severity  \\\n",
      "0                    81.723471  Man-in-the-Middle Attack             Low   \n",
      "1                    97.531693                DoS Attack             Low   \n",
      "2                     5.000000                 No Threat             Low   \n",
      "3                    80.073165               Data Breach            High   \n",
      "4                    22.173440  Man-in-the-Middle Attack             Low   \n",
      "..                         ...                       ...             ...   \n",
      "995                  25.754582  Man-in-the-Middle Attack            High   \n",
      "996                  55.823353               Data Breach          Medium   \n",
      "997                   5.144074  Man-in-the-Middle Attack            High   \n",
      "998                   5.000000                 No Threat          Medium   \n",
      "999                  49.668353                DoS Attack             Low   \n",
      "\n",
      "     Response Time (sec) Response Action Taken  Threat Detected  Gesture_X  \\\n",
      "0                   4.63      Reset Encryption                1       1.48   \n",
      "1                   3.94      Reset Encryption                1       1.62   \n",
      "2                   0.00  Reconnect Connection                0       0.67   \n",
      "3                   4.58  Reconnect Connection                1       1.63   \n",
      "4                   2.46          Isolate Data                1       0.53   \n",
      "..                   ...                   ...              ...        ...   \n",
      "995                 3.47  Reconnect Connection                1       0.48   \n",
      "996                 3.89          Isolate Data                1       1.81   \n",
      "997                 1.83  Reconnect Connection                0       1.05   \n",
      "998                 0.00  Reconnect Connection                0       1.56   \n",
      "999                 2.36  Reconnect Connection                1       0.17   \n",
      "\n",
      "     Gesture_Y  Gesture_Z  \n",
      "0         1.40       0.02  \n",
      "1         1.81       0.68  \n",
      "2         1.53       0.06  \n",
      "3         1.74       1.92  \n",
      "4         0.87       1.17  \n",
      "..         ...        ...  \n",
      "995       1.06       0.40  \n",
      "996       0.37       0.30  \n",
      "997       1.83       0.49  \n",
      "998       0.67       1.91  \n",
      "999       0.95       1.23  \n",
      "\n",
      "[1000 rows x 20 columns]\n"
     ]
    }
   ],
   "source": [
    "coords = df[\"Gesture Coordinates (x, y, z)\"].str.extract(r\"\\(([^,]+), ([^,]+), ([^)]+)\\)\")\n",
    "coords.columns = ['Gesture_X', 'Gesture_Y', 'Gesture_Z']\n",
    "coords = coords.astype(float)\n",
    "df = df.drop(\"Gesture Coordinates (x, y, z)\", axis=1)\n",
    "df = pd.concat([df, coords], axis=1)\n",
    "print(df)\n"
   ]
  },
  {
   "cell_type": "code",
   "execution_count": 6,
   "id": "372896d1-3fd3-4f60-9079-cae68d1aeadc",
   "metadata": {},
   "outputs": [
    {
     "name": "stdout",
     "output_type": "stream",
     "text": [
      "     Robot Gesture ID Gesture Type  Gesture Duration (sec) Robot Status  \\\n",
      "0                  10     Incision                5.999538         Idle   \n",
      "1                   8    Diagnosis                2.233173         Idle   \n",
      "2                   9     Incision                3.016105       Active   \n",
      "3                   1     Incision                0.826854         Idle   \n",
      "4                   4     Suturing                2.355016         Idle   \n",
      "..                ...          ...                     ...          ...   \n",
      "995                 1    Diagnosis                2.908674         Idle   \n",
      "996                 9   Navigation                0.613279         Idle   \n",
      "997                 9   Navigation                3.547558         Idle   \n",
      "998                 1   Navigation                3.061551         Idle   \n",
      "999                 3    Diagnosis                0.768948         Idle   \n",
      "\n",
      "     Message ID    Sender  Receiver Encryption Algorithm Used  \\\n",
      "0         22614  Operator     Robot                  Two Fish   \n",
      "1         61556  Operator     Robot                  Two Fish   \n",
      "2         27848  Operator     Robot                  Two Fish   \n",
      "3         60592  Operator     Robot                  Two Fish   \n",
      "4         46712     Robot  Operator                  Two Fish   \n",
      "..          ...       ...       ...                       ...   \n",
      "995       10047  Operator     Robot                  Two Fish   \n",
      "996       66498  Operator     Robot                  Two Fish   \n",
      "997       69106  Operator     Robot                  Two Fish   \n",
      "998       94269     Robot  Operator                  Two Fish   \n",
      "999       11134  Operator     Robot                  Two Fish   \n",
      "\n",
      "    Encryption Status  Network Latency (ms)  ...  Threat Severity  \\\n",
      "0           Encrypted             14.248357  ...              Low   \n",
      "1           Encrypted              7.761515  ...              Low   \n",
      "2           Encrypted             12.473764  ...              Low   \n",
      "3           Encrypted              8.271280  ...             High   \n",
      "4              Failed              8.120981  ...              Low   \n",
      "..                ...                   ...  ...              ...   \n",
      "995         Encrypted              9.519977  ...             High   \n",
      "996            Failed              8.434898  ...           Medium   \n",
      "997            Failed             11.301059  ...             High   \n",
      "998         Encrypted             12.714424  ...           Medium   \n",
      "999         Encrypted             14.379120  ...              Low   \n",
      "\n",
      "    Response Time (sec) Response Action Taken  Threat Detected Gesture_X  \\\n",
      "0                  4.63      Reset Encryption                1      1.48   \n",
      "1                  3.94      Reset Encryption                1      1.62   \n",
      "2                  0.00  Reconnect Connection                0      0.67   \n",
      "3                  4.58  Reconnect Connection                1      1.63   \n",
      "4                  2.46          Isolate Data                1      0.53   \n",
      "..                  ...                   ...              ...       ...   \n",
      "995                3.47  Reconnect Connection                1      0.48   \n",
      "996                3.89          Isolate Data                1      1.81   \n",
      "997                1.83  Reconnect Connection                0      1.05   \n",
      "998                0.00  Reconnect Connection                0      1.56   \n",
      "999                2.36  Reconnect Connection                1      0.17   \n",
      "\n",
      "     Gesture_Y  Gesture_Z  Hour  Minute  DayOfWeek  \n",
      "0         1.40       0.02    16      32          4  \n",
      "1         1.81       0.68    16      32          4  \n",
      "2         1.53       0.06    16      32          4  \n",
      "3         1.74       1.92    16      32          4  \n",
      "4         0.87       1.17    16      32          4  \n",
      "..         ...        ...   ...     ...        ...  \n",
      "995       1.06       0.40    16      32          4  \n",
      "996       0.37       0.30    16      32          4  \n",
      "997       1.83       0.49    16      32          4  \n",
      "998       0.67       1.91    16      32          4  \n",
      "999       0.95       1.23    16      32          4  \n",
      "\n",
      "[1000 rows x 22 columns]\n"
     ]
    }
   ],
   "source": [
    "df['Timestamp'] = pd.to_datetime(df['Timestamp'])\n",
    "df['Hour'] = df['Timestamp'].dt.hour\n",
    "df['Minute'] = df['Timestamp'].dt.minute\n",
    "df['DayOfWeek'] = df['Timestamp'].dt.dayofweek\n",
    "df.drop('Timestamp', axis=1, inplace=True)\n",
    "print(df)\n"
   ]
  },
  {
   "cell_type": "code",
   "execution_count": 7,
   "id": "3cec7ac8-99cc-4b36-9e53-d637bab1b9c3",
   "metadata": {},
   "outputs": [],
   "source": [
    "\n",
    "df.to_csv(\"preprocessed_telesurgery_data.csv\", index=False)\n"
   ]
  },
  {
   "cell_type": "code",
   "execution_count": 8,
   "id": "8a3bae30-527a-4a5a-a400-42f34baef41f",
   "metadata": {},
   "outputs": [
    {
     "data": {
      "text/plain": [
       "Threat Detected\n",
       "1    691\n",
       "0    309\n",
       "Name: count, dtype: int64"
      ]
     },
     "execution_count": 8,
     "metadata": {},
     "output_type": "execute_result"
    }
   ],
   "source": [
    "df['Threat Detected'].value_counts()\n"
   ]
  },
  {
   "cell_type": "code",
   "execution_count": null,
   "id": "995cf58a-0b5f-4545-9460-290f8daed85c",
   "metadata": {},
   "outputs": [],
   "source": []
  }
 ],
 "metadata": {
  "kernelspec": {
   "display_name": "Python 3 (ipykernel)",
   "language": "python",
   "name": "python3"
  },
  "language_info": {
   "codemirror_mode": {
    "name": "ipython",
    "version": 3
   },
   "file_extension": ".py",
   "mimetype": "text/x-python",
   "name": "python",
   "nbconvert_exporter": "python",
   "pygments_lexer": "ipython3",
   "version": "3.11.7"
  }
 },
 "nbformat": 4,
 "nbformat_minor": 5
}
